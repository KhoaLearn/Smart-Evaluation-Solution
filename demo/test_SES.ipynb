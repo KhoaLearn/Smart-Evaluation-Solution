{
  "nbformat": 4,
  "nbformat_minor": 0,
  "metadata": {
    "colab": {
      "provenance": [],
      "gpuType": "T4"
    },
    "kernelspec": {
      "name": "python3",
      "display_name": "Python 3"
    },
    "language_info": {
      "name": "python"
    },
    "accelerator": "GPU"
  },
  "cells": [
    {
      "cell_type": "code",
      "execution_count": null,
      "metadata": {
        "id": "bN2icH5mFGmF"
      },
      "outputs": [],
      "source": [
        "!git clone https://github.com/ngocdai101004/Smart-Evaluation-Solution.git\n",
        "%cd Smart-Evaluation-Solution\n",
        "!pip install -r requirements.txt"
      ]
    },
    {
      "cell_type": "code",
      "source": [
        "import os\n",
        "# Used to securely store your API key\n",
        "from google.colab import userdata"
      ],
      "metadata": {
        "id": "9iiq2wcvFXwx"
      },
      "execution_count": null,
      "outputs": []
    },
    {
      "cell_type": "code",
      "source": [
        "os.environ['GROQ_API_KEY'] = userdata.get('GROQ_API_KEY')\n",
        "os.environ['GEMINI_API_KEY'] = userdata.get('GOOGLE_API_KEY')\n",
        "os.environ['NGROK_API_KEY'] = userdata.get('NGROK_API_KEY')"
      ],
      "metadata": {
        "id": "ByRVKwJuFXzH"
      },
      "execution_count": null,
      "outputs": []
    },
    {
      "cell_type": "code",
      "source": [
        "# import shutil\n",
        "\n",
        "# def rename_directory(old_name, new_name):\n",
        "#     shutil.move(old_name, new_name)\n",
        "\n",
        "# rename_directory(old_name=\"/content/Smart-Evaluation-Solution\",\n",
        "#                  new_name=\"/content/ses\")"
      ],
      "metadata": {
        "id": "rhQEWYRNFX1r"
      },
      "execution_count": null,
      "outputs": []
    },
    {
      "cell_type": "code",
      "source": [
        "%cd /content/Smart-Evaluation-Solution\n",
        "\n",
        "!streamlit run app.py &>/content/logs.txt &"
      ],
      "metadata": {
        "colab": {
          "base_uri": "https://localhost:8080/"
        },
        "id": "g_gmBZL8FfsO",
        "outputId": "ecb5908f-8dae-422c-acc0-c4b38369efa6"
      },
      "execution_count": null,
      "outputs": [
        {
          "output_type": "stream",
          "name": "stdout",
          "text": [
            "/content/Smart-Evaluation-Solution\n"
          ]
        }
      ]
    },
    {
      "cell_type": "code",
      "source": [
        "!pgrep streamlit"
      ],
      "metadata": {
        "colab": {
          "base_uri": "https://localhost:8080/"
        },
        "id": "JIqcB0S3FfvM",
        "outputId": "9fb3fb4a-93c1-4b8e-965c-b177f011fa22"
      },
      "execution_count": null,
      "outputs": [
        {
          "output_type": "stream",
          "name": "stdout",
          "text": [
            "12395\n"
          ]
        }
      ]
    },
    {
      "cell_type": "code",
      "source": [
        "!pip install pyngrok"
      ],
      "metadata": {
        "colab": {
          "base_uri": "https://localhost:8080/"
        },
        "id": "vhBMoVukFfxU",
        "outputId": "9e26545f-1c8f-45b7-d17b-d2de4a5d538b"
      },
      "execution_count": null,
      "outputs": [
        {
          "output_type": "stream",
          "name": "stdout",
          "text": [
            "Requirement already satisfied: pyngrok in /usr/local/lib/python3.10/dist-packages (7.1.6)\n",
            "Requirement already satisfied: PyYAML>=5.1 in /usr/local/lib/python3.10/dist-packages (from pyngrok) (6.0.1)\n"
          ]
        }
      ]
    },
    {
      "cell_type": "code",
      "source": [
        "from pyngrok.conf import PyngrokConfig\n",
        "from pyngrok import ngrok, conf\n",
        "\n",
        "conf.get_default().config_path = \"/opt/ngrok/ngrok.yml\"\n",
        "ngrok.set_auth_token(token=os.environ.get('NGROK_API_KEY'))\n",
        "\n",
        "public_url = ngrok.connect(\"8501\")\n",
        "ngrok_process = ngrok.get_ngrok_process()\n",
        "try:\n",
        "    # Block until CTRL-C or some other terminating event\n",
        "    print(public_url)\n",
        "    ngrok_process.proc.wait()\n",
        "except KeyboardInterrupt:\n",
        "    print(\" Shutting down server.\")\n",
        "\n",
        "    ngrok.kill()\n"
      ],
      "metadata": {
        "colab": {
          "base_uri": "https://localhost:8080/"
        },
        "id": "cSDqtIcZFX4X",
        "outputId": "62948312-2256-4b57-d744-c37785ad6822"
      },
      "execution_count": 36,
      "outputs": [
        {
          "metadata": {
            "tags": null
          },
          "name": "stdout",
          "output_type": "stream",
          "text": [
            "NgrokTunnel: \"https://b1b2-34-125-24-183.ngrok-free.app\" -> \"http://localhost:8501\"\n"
          ]
        },
        {
          "output_type": "stream",
          "name": "stderr",
          "text": [
            "WARNING:pyngrok.process.ngrok:t=2024-06-30T03:20:42+0000 lvl=warn msg=\"Stopping forwarder\" name=http-8501-2d51e23d-3df2-4830-ac30-ac9f5ec2a231 acceptErr=\"failed to accept connection: Listener closed\"\n",
            "WARNING:pyngrok.process.ngrok:t=2024-06-30T03:20:42+0000 lvl=warn msg=\"Error restarting forwarder\" name=http-8501-2d51e23d-3df2-4830-ac30-ac9f5ec2a231 err=\"failed to start tunnel: session closed\"\n"
          ]
        },
        {
          "output_type": "stream",
          "name": "stdout",
          "text": [
            " Shutting down server.\n"
          ]
        }
      ]
    },
    {
      "cell_type": "code",
      "source": [],
      "metadata": {
        "id": "IuFdQBleXK_K"
      },
      "execution_count": null,
      "outputs": []
    }
  ]
}
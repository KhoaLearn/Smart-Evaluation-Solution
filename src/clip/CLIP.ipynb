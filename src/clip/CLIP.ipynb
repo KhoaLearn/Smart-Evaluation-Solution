{
  "nbformat": 4,
  "nbformat_minor": 0,
  "metadata": {
    "colab": {
      "provenance": []
    },
    "kernelspec": {
      "name": "python3",
      "display_name": "Python 3"
    },
    "language_info": {
      "name": "python"
    }
  },
  "cells": [
    {
      "cell_type": "code",
      "execution_count": null,
      "metadata": {
        "colab": {
          "base_uri": "https://localhost:8080/"
        },
        "id": "K7kzX_A3eG31",
        "outputId": "60d3a26e-2cd3-45df-df21-620db8bb91d9"
      },
      "outputs": [
        {
          "output_type": "stream",
          "name": "stdout",
          "text": [
            "Mounted at /content/drive\n"
          ]
        }
      ],
      "source": [
        "from google.colab import drive\n",
        "drive.mount('/content/drive')"
      ]
    },
    {
      "cell_type": "code",
      "source": [
        "!pip install open_clip_torch"
      ],
      "metadata": {
        "id": "yUP9J6ZSgb5q"
      },
      "execution_count": null,
      "outputs": []
    },
    {
      "cell_type": "code",
      "source": [
        "!gdown 1d4v9MsYBdrpcOmup0CND75Y-Hexmo3-t\n",
        "!unzip -qq \"/content/FULL [Heineken Vietnam] Developer Resources-20240603T132806Z-001.zip\" -d \"/content/dataset\"\n",
        "!rm \"/content/FULL [Heineken Vietnam] Developer Resources-20240603T132806Z-001.zip\"\n"
      ],
      "metadata": {
        "colab": {
          "base_uri": "https://localhost:8080/"
        },
        "id": "N4xDSrEVeqag",
        "outputId": "522b0659-3592-4c5b-b605-1f5099db9874"
      },
      "execution_count": null,
      "outputs": [
        {
          "output_type": "stream",
          "name": "stdout",
          "text": [
            "Downloading...\n",
            "From (original): https://drive.google.com/uc?id=1d4v9MsYBdrpcOmup0CND75Y-Hexmo3-t\n",
            "From (redirected): https://drive.google.com/uc?id=1d4v9MsYBdrpcOmup0CND75Y-Hexmo3-t&confirm=t&uuid=5c0e5659-fdc6-4109-9a24-236d4fcaa46e\n",
            "To: /content/FULL [Heineken Vietnam] Developer Resources-20240603T132806Z-001.zip\n",
            "100% 1.10G/1.10G [00:25<00:00, 43.6MB/s]\n"
          ]
        }
      ]
    },
    {
      "cell_type": "code",
      "source": [
        "import numpy as np\n",
        "from matplotlib import pyplot as plt\n",
        "import pandas as pd\n",
        "import os\n",
        "import torch\n",
        "import open_clip as clip\n",
        "from PIL import Image\n",
        "device = \"cuda\" if torch.cuda.is_available() else \"cpu\""
      ],
      "metadata": {
        "id": "LWY1UxqOhQDT"
      },
      "execution_count": null,
      "outputs": []
    },
    {
      "cell_type": "code",
      "source": [
        "model, _, preprocess = clip.create_model_and_transforms('ViT-B-32', pretrained='laion2b_s34b_b79k', device=device)\n",
        "model.eval()\n",
        "tokenizer = clip.get_tokenizer('ViT-B-32')\n",
        "context = [\"in the outdoor_venue\",\n",
        "           \"People are shopping\",\n",
        "           \"in the bar or the pub or the night_club\",\n",
        "           \"in the restaurant\",\n",
        "           \"in the store\",\n",
        "           \"in the big supermarket\",\n",
        "           \"A display counter\"\n",
        "           \"A party or the celebration\",\n",
        "           \"A gathering\",\n",
        "           \"A happy hour, or a fun time\",\n",
        "           \"A fun time\",\n",
        "           \"There are some beer carton\",\n",
        "           \"There are some Promotional Material: Signage, billboard, poster, standee \",\n",
        "           \"People is taking photo\"]\n",
        "\n",
        "text = tokenizer(context).to(device)\n",
        "\n"
      ],
      "metadata": {
        "id": "BmbvK-IufM3B"
      },
      "execution_count": 99,
      "outputs": []
    },
    {
      "cell_type": "code",
      "source": [
        "def define_context(image_path, model, device):\n",
        "    raw_image = Image.open(image_path)\n",
        "    image = preprocess(raw_image).unsqueeze(0).to(device)\n",
        "\n",
        "    with torch.no_grad(), torch.cuda.amp.autocast():\n",
        "        image_features = model.encode_image(image)\n",
        "        text_features = model.encode_text(text)\n",
        "        image_features /= image_features.norm(dim=-1, keepdim=True)\n",
        "        text_features /= text_features.norm(dim=-1, keepdim=True)\n",
        "        text_probs = (100.0 * image_features @ text_features.T).softmax(dim=-1)\n",
        "        max_value, max_index = torch.max(text_probs, dim=1)\n",
        "        return max_value, max_index\n",
        "\n",
        "\n"
      ],
      "metadata": {
        "id": "6WSyhVBCUELH"
      },
      "execution_count": 100,
      "outputs": []
    },
    {
      "cell_type": "code",
      "source": [
        "image_path = '/content/dataset/FULL [Heineken Vietnam] Developer Resources/66550793_1706269652872.jpg'\n",
        "max_value, max_index = define_context(image_path, model, device)\n",
        "print(context[max_index], max_value)"
      ],
      "metadata": {
        "id": "KCEQggaFU2Tk",
        "colab": {
          "base_uri": "https://localhost:8080/"
        },
        "outputId": "b23f8842-0669-4fac-b892-be4d47f1d3a8"
      },
      "execution_count": 102,
      "outputs": [
        {
          "output_type": "stream",
          "name": "stdout",
          "text": [
            "in the store tensor([0.6091])\n"
          ]
        }
      ]
    },
    {
      "cell_type": "code",
      "source": [],
      "metadata": {
        "id": "8vV5LvjNU2WL"
      },
      "execution_count": 102,
      "outputs": []
    },
    {
      "cell_type": "code",
      "source": [
        "results_list = []\n",
        "\n",
        "dataset_path = \"/content/dataset/FULL [Heineken Vietnam] Developer Resources\"\n",
        "\n",
        "for filename in os.listdir(dataset_path):\n",
        "    if filename.endswith('.jpg') or filename.endswith('.png'):  # Adjust file extensions as needed\n",
        "        image_path = os.path.join(dataset_path , filename)\n",
        "        max_value, max_index = define_context(image_path, model, device)\n",
        "        ct = context[max_index]\n",
        "        object = {\n",
        "            \"filename\": filename,\n",
        "            \"context\": ct,\n",
        "            \"text_probs\": max_value\n",
        "        }\n",
        "        results_list.append(object)\n",
        "\n"
      ],
      "metadata": {
        "id": "aozOtNqSjUOS"
      },
      "execution_count": 103,
      "outputs": []
    },
    {
      "cell_type": "code",
      "source": [
        "import json\n"
      ],
      "metadata": {
        "id": "BK-8U0bZi6HQ"
      },
      "execution_count": null,
      "outputs": []
    },
    {
      "cell_type": "code",
      "source": [
        "with open('/content/drive/MyDrive/Colab Notebooks/HACKHCMC2024/context_result_list.json', 'w') as json_file:\n",
        "    json.dump(results_list, json_file, indent=4)"
      ],
      "metadata": {
        "id": "sBAZR48U4t5w"
      },
      "execution_count": null,
      "outputs": []
    },
    {
      "cell_type": "code",
      "source": [],
      "metadata": {
        "id": "my4f3j2w5Wpk"
      },
      "execution_count": null,
      "outputs": []
    }
  ]
}